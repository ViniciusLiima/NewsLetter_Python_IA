{
  "nbformat": 4,
  "nbformat_minor": 0,
  "metadata": {
    "colab": {
      "provenance": []
    },
    "kernelspec": {
      "name": "python3",
      "display_name": "Python 3"
    },
    "language_info": {
      "name": "python"
    }
  },
  "cells": [
    {
      "cell_type": "markdown",
      "source": [
        "# Projeto de Newsletter Diária de Cotação de Moedas 📨📈"
      ],
      "metadata": {
        "id": "Cg38tRsDDGBm"
      }
    },
    {
      "cell_type": "markdown",
      "source": [
        "## CONFIGURAÇÃO DE AMBIENTE ⚙️"
      ],
      "metadata": {
        "id": "nraGrixVDhEG"
      }
    },
    {
      "cell_type": "code",
      "source": [
        "# Bibliotecas necessárias\n",
        "import os\n",
        "import yaml\n",
        "import json\n",
        "import logging\n",
        "import requests\n",
        "import smtplib\n",
        "import pandas as pd\n",
        "import google.generativeai as genai\n",
        "import matplotlib.pyplot as plt\n",
        "from datetime import datetime\n",
        "from email.mime.multipart import MIMEMultipart\n",
        "from email.mime.text import MIMEText\n",
        "from email.mime.base import MIMEBase\n",
        "from email import encoders"
      ],
      "metadata": {
        "id": "p-8kGuiTDcZO"
      },
      "execution_count": 1,
      "outputs": []
    },
    {
      "cell_type": "code",
      "source": [
        "# Lista com os nomes dos diretórios a serem criados\n",
        "directories = [\"01_bronze\", \"02_silver\", \"03_gold\", \"04_graphs\", \"05_ia_responses\"]\n",
        "\n",
        "# Criar diretórios\n",
        "for directory in directories:\n",
        "    try:\n",
        "        # Tenta criar o diretório. Se ele já existir, o erro FileExistsError é gerado.\n",
        "        os.mkdir(directory)\n",
        "        print(f\"Diretório '{directory}' criado com sucesso.\")\n",
        "    except FileExistsError:\n",
        "        # Se o diretório já existir, uma mensagem é impressa.\n",
        "        print(f\"O diretório '{directory}' já existe.\")\n",
        "    except Exception as e:\n",
        "        # Para qualquer outro tipo de erro, uma mensagem genérica é exibida.\n",
        "        print(f\"Ocorreu um erro ao criar o diretório '{directory}': {e}\")"
      ],
      "metadata": {
        "colab": {
          "base_uri": "https://localhost:8080/"
        },
        "id": "TxW-P37aJYPU",
        "outputId": "e0629b89-dbd3-40a7-88de-770e5c81682e"
      },
      "execution_count": 2,
      "outputs": [
        {
          "output_type": "stream",
          "name": "stdout",
          "text": [
            "O diretório '01_bronze' já existe.\n",
            "O diretório '02_silver' já existe.\n",
            "O diretório '03_gold' já existe.\n",
            "O diretório '04_graphs' já existe.\n",
            "O diretório '05_ia_responses' já existe.\n"
          ]
        }
      ]
    },
    {
      "cell_type": "markdown",
      "source": [
        "##CONFIGURAÇÃO DE LOG\n"
      ],
      "metadata": {
        "id": "xOXZURpmDy4H"
      }
    },
    {
      "cell_type": "code",
      "source": [
        "# Cria um objeto logger com o nome 'newsletter_logger'\n",
        "newsletter_logger = logging.getLogger('newsletter_logger')\n",
        "\n",
        "# Define o nível de registro como DEBUG. Isso significa que todas as mensagens com nível DEBUG e acima serão registradas\n",
        "newsletter_logger.setLevel(logging.DEBUG)\n",
        "\n",
        "# Criae manipuladores que imprimem mensagens de log no console (saída padrão) e escrevem mensagens de log em um arquivo chamado 'newsletter_logger.log'\n",
        "console_handler = logging.StreamHandler()\n",
        "file_handler = logging.FileHandler('newsletter_logger.log')\n",
        "\n",
        "# Define um formatador que especifica o formato das mensagens de log\n",
        "formatter = logging.Formatter('%(asctime)s - %(name)s - %(levelname)s - %(message)s')\n",
        "\n",
        "# Define o formatador para o manipulador do console e para o manipulador de arquivos\n",
        "console_handler.setFormatter(formatter)\n",
        "file_handler.setFormatter(formatter)\n",
        "\n",
        "# Adiciona o manipulador do console ao logger. Isso significa que mensagens de log serão exibidas no console\n",
        "#newsletter_logger.addHandler(console_handler)\n",
        "\n",
        "# Adiciona o manipulador de arquivos ao logger. Isso significa que mensagens de log serão escritas no arquivo 'newsletter_logger.log'\n",
        "newsletter_logger.addHandler(file_handler)\n",
        "\n",
        "# Gera Log\n",
        "newsletter_logger.info(\"Configurações de Log\")"
      ],
      "metadata": {
        "id": "R-_FMhoDDrF_",
        "colab": {
          "base_uri": "https://localhost:8080/"
        },
        "outputId": "af3b28ca-6455-4ac3-edd4-f3985f4a171e"
      },
      "execution_count": 3,
      "outputs": [
        {
          "output_type": "stream",
          "name": "stderr",
          "text": [
            "INFO:newsletter_logger:Configurações de Log\n"
          ]
        }
      ]
    },
    {
      "cell_type": "markdown",
      "source": [
        "## CONFIGURAÇÕES DE FUNÇÕES"
      ],
      "metadata": {
        "id": "eTp_J4-zLO0j"
      }
    },
    {
      "cell_type": "code",
      "source": [
        "# Gera Log\n",
        "newsletter_logger.info(\"Configurações de Funções\")\n",
        "\n",
        "def obter_taxas_de_cambio(api_key):\n",
        "    \"\"\"\n",
        "    Função para obter as taxas de câmbio da API ExchangeRate-API.com.\n",
        "\n",
        "    Args:\n",
        "        api_key (str): Sua chave de API da ExchangeRate-API.com.\n",
        "\n",
        "    Returns:\n",
        "        dict: Um dicionário com as taxas de câmbio ou None em caso de erro.\n",
        "    \"\"\"\n",
        "    url = f\"https://v6.exchangerate-api.com/v6/{api_key}/latest/BRL\"\n",
        "\n",
        "    try:\n",
        "        response = requests.get(url)\n",
        "        response.raise_for_status()  # Lança uma exceção para respostas com erro (status code 4xx ou 5xx)\n",
        "\n",
        "        dados = response.json()\n",
        "\n",
        "        if dados.get(\"result\") == \"success\":\n",
        "            return dados.get(\"conversion_rates\")\n",
        "        else:\n",
        "            newsletter_logger.info(f\"Erro na resposta da API: {dados.get('error-type')}\")\n",
        "            return None\n",
        "\n",
        "    except requests.exceptions.RequestException as e:\n",
        "        newsletter_logger.info(f\"Erro ao fazer a requisição: {e}\")\n",
        "        return None\n",
        "\n",
        "def enviar_email_com_anexo(remetente, senha, destinatario, assunto, corpo, caminho_anexo):\n",
        "    \"\"\"\n",
        "    Envia um e-mail com um anexo.\n",
        "\n",
        "    Args:\n",
        "        remetente (str): Endereço de e-mail do remetente.\n",
        "        senha (str): Senha do aplicativo/gerada do e-mail do remetente.\n",
        "        destinatario (str): Endereço de e-mail do destinatário.\n",
        "        assunto (str): Assunto do e-mail.\n",
        "        corpo (str): Corpo do texto do e-mail.\n",
        "        caminho_anexo (str): Caminho completo para o arquivo a ser anexado.\n",
        "    \"\"\"\n",
        "    # Configurações do e-mail\n",
        "    msg = MIMEMultipart()\n",
        "    msg['From'] = remetente\n",
        "    msg['To'] = destinatario\n",
        "    msg['Subject'] = assunto\n",
        "\n",
        "    # Anexa o corpo do e-mail\n",
        "    msg.attach(MIMEText(corpo, 'plain'))\n",
        "\n",
        "    # Anexa o arquivo\n",
        "    try:\n",
        "        with open(caminho_anexo, \"rb\") as anexo:\n",
        "            parte = MIMEBase(\"application\", \"octet-stream\")\n",
        "            parte.set_payload(anexo.read())\n",
        "\n",
        "        encoders.encode_base64(parte)\n",
        "\n",
        "        # Define o nome do arquivo no cabeçalho\n",
        "        nome_arquivo = os.path.basename(caminho_anexo)\n",
        "        parte.add_header(\"Content-Disposition\", f\"attachment; filename={nome_arquivo}\")\n",
        "\n",
        "        msg.attach(parte)\n",
        "\n",
        "    except FileNotFoundError:\n",
        "        newsletter_logger.info(f\"Erro: O arquivo {caminho_anexo} não foi encontrado.\")\n",
        "        return\n",
        "    except Exception as e:\n",
        "        newsletter_logger.info(f\"Ocorreu um erro ao anexar o arquivo: {e}\")\n",
        "        return\n",
        "\n",
        "    # Conecta ao servidor e envia o e-mail\n",
        "    try:\n",
        "        servidor_smtp = \"smtp.gmail.com\"  # Exemplo para Gmail\n",
        "        porta_smtp = 587\n",
        "\n",
        "        with smtplib.SMTP(servidor_smtp, porta_smtp) as servidor:\n",
        "            servidor.starttls()  # Inicia a segurança TLS\n",
        "            servidor.login(remetente, senha)\n",
        "            servidor.send_message(msg)\n",
        "            newsletter_logger.info(\"E-mail enviado com sucesso!\")\n",
        "\n",
        "    except smtplib.SMTPAuthenticationError:\n",
        "        newsletter_logger.info(\"Erro de autenticação. Verifique seu e-mail e senha do aplicativo.\")\n",
        "    except Exception as e:\n",
        "        newsletter_logger.info(f\"Ocorreu um erro ao enviar o e-mail: {e}\")"
      ],
      "metadata": {
        "id": "An_yh6oILR8k",
        "colab": {
          "base_uri": "https://localhost:8080/"
        },
        "outputId": "23d4f1a3-0ecb-43aa-918e-92a27e17f635"
      },
      "execution_count": 4,
      "outputs": [
        {
          "output_type": "stream",
          "name": "stderr",
          "text": [
            "INFO:newsletter_logger:Configurações de Funções\n"
          ]
        }
      ]
    },
    {
      "cell_type": "markdown",
      "source": [
        "## DEFINE VARIAVEIS"
      ],
      "metadata": {
        "id": "4Qunxf6w9-zo"
      }
    },
    {
      "cell_type": "code",
      "source": [
        "# Gera Log\n",
        "newsletter_logger.info(\"Definição de variaveis\")\n",
        "\n",
        "# Define Data atual\n",
        "data_atual = datetime.now()\n",
        "\n",
        "# Define Data atual no formato '%Y-%m-%d'\n",
        "data_atual_str = data_atual.strftime('%Y-%m-%d')\n",
        "\n",
        "# Define diretório e arquivo - Camada BRONZE\n",
        "bronze_dir = os.path.join(\"01_bronze/\", f\"exchange_rates_bronze_{data_atual_str}.json\")\n",
        "\n",
        "# Define diretório e arquivo - Camada SILVER\n",
        "silver_dir = os.path.join(\"02_silver/\", f\"exchange_rates_normalized_{data_atual_str}.json\")\n",
        "\n",
        "# Define diretório e arquivo - Camada GOLD\n",
        "gold_dir = os.path.join(\"03_gold/\", f\"exchange_rates_{data_atual_str}.parquet\")\n",
        "\n",
        "# Define diretório e arquivo - Gráficos\n",
        "graph_dir = os.path.join(\"04_graphs/\", f\"grafico_taxas_de_cambio_{data_atual_str}.pdf\")\n",
        "\n",
        "# Define diretório e arquivo - Saída IA\n",
        "ia_output_dir = os.path.join(\"05_ia_responses/\", f\"ia_output.json\")\n",
        "\n",
        "# O nome do arquivo YAML\n",
        "yaml_file = \"config.yaml\"\n",
        "\n",
        "# Variaveis arquivo YAML\n",
        "try:\n",
        "  with open(yaml_file, \"r\") as arquivo_yaml:\n",
        "    # Carrega o conteúdo do arquivo YAML em um dicionário Python\n",
        "    configuracoes = yaml.safe_load(arquivo_yaml)\n",
        "\n",
        "  # ExchangeRate API Key\n",
        "  exchangerate_key = configuracoes['api_keys']['exchangerate_api_key']\n",
        "\n",
        "  # Gemini API Key\n",
        "  gemini_key = configuracoes['api_keys']['gemini_api_key']\n",
        "\n",
        "  # Gemini API model\n",
        "  gemini_model = configuracoes['ia_model']['gemini_model']\n",
        "\n",
        "  # Define email e senha para envio do relatório\n",
        "  meu_email = configuracoes['email']['meu_email']\n",
        "  minha_senha_app = configuracoes['email']['minha_senha_app']\n",
        "\n",
        "  # Define email do assinante\n",
        "  email_destinatario = configuracoes['email']['email_destinatario']\n",
        "\n",
        "except FileNotFoundError:\n",
        "  newsletter_logger.info(f\"Erro: O arquivo '{yaml_file}' não foi encontrado. Verifique o caminho e o nome do arquivo.\")\n",
        "except KeyError as e:\n",
        "  newsletter_logger.info(f\"Erro: Chave não encontrada no arquivo YAML. Verifique a estrutura. Chave faltando: {e}\")\n",
        "except Exception as e:\n",
        "  newsletter_logger.info(f\"Ocorreu um erro ao carregar o arquivo YAML: {e}\")"
      ],
      "metadata": {
        "id": "QddR6b8W99uh",
        "colab": {
          "base_uri": "https://localhost:8080/"
        },
        "outputId": "d08fdb48-f9cc-4edc-84e5-c049537dd4f9"
      },
      "execution_count": 5,
      "outputs": [
        {
          "output_type": "stream",
          "name": "stderr",
          "text": [
            "INFO:newsletter_logger:Definição de variaveis\n"
          ]
        }
      ]
    },
    {
      "cell_type": "markdown",
      "source": [
        "## 1° PASSO: COLETA DE DADOS DA API E ARMAZENAMENTO BRUTO (CAMADA BRONZE) 🥉"
      ],
      "metadata": {
        "id": "EsNZUo38E4ke"
      }
    },
    {
      "cell_type": "code",
      "source": [
        "# Gera Log\n",
        "newsletter_logger.info(\"1° PASSO: COLETA DE DADOS DA API E ARMAZENAMENTO BRUTO (CAMADA BRONZE)\")\n",
        "\n",
        "# Executa função para retornar taxas\n",
        "taxas = obter_taxas_de_cambio(exchangerate_key)\n",
        "\n",
        "# json.dump escreve o dicionário Python em um arquivo no formato JSON\n",
        "# indent=4 formata o JSON para ser mais legível\n",
        "# ensure_ascii=False garante que caracteres especiais (como R$) sejam salvos corretamente\n",
        "with open(bronze_dir, 'w', encoding='utf-8') as json_file:\n",
        "    json.dump(taxas, json_file, indent=4, ensure_ascii=False)\n",
        "\n",
        "# Gera Log\n",
        "newsletter_logger.info(f\"Taxas de câmbio salvas com sucesso em: {bronze_dir}\")"
      ],
      "metadata": {
        "id": "_9r1kKpEI_OF",
        "colab": {
          "base_uri": "https://localhost:8080/"
        },
        "outputId": "be62867e-edf6-4093-c265-4cffb0d46377"
      },
      "execution_count": 6,
      "outputs": [
        {
          "output_type": "stream",
          "name": "stderr",
          "text": [
            "INFO:newsletter_logger:1° PASSO: COLETA DE DADOS DA API E ARMAZENAMENTO BRUTO (CAMADA BRONZE)\n",
            "INFO:newsletter_logger:Taxas de câmbio salvas com sucesso em: 01_bronze/exchange_rates_bronze_2025-09-03.json\n"
          ]
        }
      ]
    },
    {
      "cell_type": "markdown",
      "source": [
        "## 2° PASSO: CAPTURAR DADOS DA CAMADA BRONZE🥉, NORMALIZAR E GRAVAR NA CAMADA SILVER🥈"
      ],
      "metadata": {
        "id": "y2llxQgUSg54"
      }
    },
    {
      "cell_type": "code",
      "source": [
        "# Gera Log\n",
        "newsletter_logger.info(\"2° PASSO: CAPTURAR DADOS DA CAMADA BRONZE, NORMALIZAR E GRAVAR NA CAMADA SILVER\")\n",
        "\n",
        "# Le o arquivo JSON\n",
        "with open(bronze_dir, 'r', encoding='utf-8') as json_file:\n",
        "    taxas_dict = json.load(json_file)\n",
        "\n",
        "# Converte o dictionary para uma lista de tuplas e então para DataFrame\n",
        "df_silver = pd.DataFrame(list(taxas_dict.items()), columns=['Moeda', 'Taxa'])\n",
        "\n",
        "# Garante a qualidade dos dados (remover taxas nulas ou negativas)\n",
        "df_silver_qa = df_silver[df_silver['Taxa'] > 0].copy()\n",
        "\n",
        "# Normalizr os dados adicionando as novas colunas\n",
        "moeda_base = 'BRL' # Define moeda base como BRL\n",
        "df_silver_qa['Moeda_Base'] = moeda_base\n",
        "df_silver_qa['Timestamp'] = pd.Timestamp.now()\n",
        "\n",
        "# Reordenr colunas para melhor organização\n",
        "df_silver_qa = df_silver_qa[['Moeda', 'Taxa', 'Moeda_Base', 'Timestamp']]\n",
        "\n",
        "# Salva em formato JSON\n",
        "df_silver_qa.to_json(silver_dir)\n",
        "\n",
        "# Gera Log\n",
        "newsletter_logger.info(f\"DataFrame da camada Bronze processado com sucesso e salvo na camada Silver em: {silver_dir}\")"
      ],
      "metadata": {
        "id": "5LV15XJCQNR6",
        "colab": {
          "base_uri": "https://localhost:8080/"
        },
        "outputId": "d412bdc8-8c4c-4fca-ee3c-1769095bdb73"
      },
      "execution_count": 7,
      "outputs": [
        {
          "output_type": "stream",
          "name": "stderr",
          "text": [
            "INFO:newsletter_logger:2° PASSO: CAPTURAR DADOS DA CAMADA BRONZE, NORMALIZAR E GRAVAR NA CAMADA SILVER\n",
            "INFO:newsletter_logger:DataFrame da camada Bronze processado com sucesso e salvo na camada Silver em: 02_silver/exchange_rates_normalized_2025-09-03.json\n"
          ]
        }
      ]
    },
    {
      "cell_type": "markdown",
      "source": [
        "##3° PASSO: CAPTURAR DADOS DA CAMADA SILVER🥈 E GRAVAR EM PARQUET NA CAMADA GOLD🥇"
      ],
      "metadata": {
        "id": "0fKKiZJGYSw5"
      }
    },
    {
      "cell_type": "code",
      "source": [
        "# Gera Log\n",
        "newsletter_logger.info(\"3° PASSO: CAPTURAR DADOS DA CAMADA SILVER E GRAVAR EM PARQUET NA CAMADA GOLD\")\n",
        "\n",
        "# Le o arquivo JSON\n",
        "with open(silver_dir, 'r', encoding='utf-8') as json_file:\n",
        "    taxas_dict = json.load(json_file)\n",
        "df_gold = pd.read_json(silver_dir)\n",
        "\n",
        "# Filtra apenas USD e JPY\n",
        "df_gold = df_gold[df_gold['Moeda'].isin(['USD', 'JPY'])]\n",
        "\n",
        "# Salva em formato Parquet sem o índice do DataFrame\n",
        "df_gold.to_parquet(gold_dir, index=False)\n",
        "\n",
        "newsletter_logger.info(f\"DataFrame da camada Silver processado com sucesso e salvo na camada Gold em: {gold_dir}\")"
      ],
      "metadata": {
        "colab": {
          "base_uri": "https://localhost:8080/"
        },
        "id": "72CKL1qqXDQc",
        "outputId": "32064093-7b08-4e04-e457-94470620fe8c"
      },
      "execution_count": 8,
      "outputs": [
        {
          "output_type": "stream",
          "name": "stderr",
          "text": [
            "INFO:newsletter_logger:3° PASSO: CAPTURAR DADOS DA CAMADA SILVER E GRAVAR EM PARQUET NA CAMADA GOLD\n",
            "INFO:newsletter_logger:DataFrame da camada Silver processado com sucesso e salvo na camada Gold em: 03_gold/exchange_rates_2025-09-03.parquet\n"
          ]
        }
      ]
    },
    {
      "cell_type": "code",
      "source": [
        "df_gold"
      ],
      "metadata": {
        "colab": {
          "base_uri": "https://localhost:8080/",
          "height": 125
        },
        "id": "SdFnsEPzc6PO",
        "outputId": "50790d6a-ee78-484e-a838-e8367278d508"
      },
      "execution_count": 9,
      "outputs": [
        {
          "output_type": "execute_result",
          "data": {
            "text/plain": [
              "    Moeda     Taxa Moeda_Base           Timestamp\n",
              "70    JPY  27.1569        BRL 2025-09-03 14:27:15\n",
              "146   USD   0.1829        BRL 2025-09-03 14:27:15"
            ],
            "text/html": [
              "\n",
              "  <div id=\"df-2f7a8944-25d0-4907-aee1-4ff791bf5919\" class=\"colab-df-container\">\n",
              "    <div>\n",
              "<style scoped>\n",
              "    .dataframe tbody tr th:only-of-type {\n",
              "        vertical-align: middle;\n",
              "    }\n",
              "\n",
              "    .dataframe tbody tr th {\n",
              "        vertical-align: top;\n",
              "    }\n",
              "\n",
              "    .dataframe thead th {\n",
              "        text-align: right;\n",
              "    }\n",
              "</style>\n",
              "<table border=\"1\" class=\"dataframe\">\n",
              "  <thead>\n",
              "    <tr style=\"text-align: right;\">\n",
              "      <th></th>\n",
              "      <th>Moeda</th>\n",
              "      <th>Taxa</th>\n",
              "      <th>Moeda_Base</th>\n",
              "      <th>Timestamp</th>\n",
              "    </tr>\n",
              "  </thead>\n",
              "  <tbody>\n",
              "    <tr>\n",
              "      <th>70</th>\n",
              "      <td>JPY</td>\n",
              "      <td>27.1569</td>\n",
              "      <td>BRL</td>\n",
              "      <td>2025-09-03 14:27:15</td>\n",
              "    </tr>\n",
              "    <tr>\n",
              "      <th>146</th>\n",
              "      <td>USD</td>\n",
              "      <td>0.1829</td>\n",
              "      <td>BRL</td>\n",
              "      <td>2025-09-03 14:27:15</td>\n",
              "    </tr>\n",
              "  </tbody>\n",
              "</table>\n",
              "</div>\n",
              "    <div class=\"colab-df-buttons\">\n",
              "\n",
              "  <div class=\"colab-df-container\">\n",
              "    <button class=\"colab-df-convert\" onclick=\"convertToInteractive('df-2f7a8944-25d0-4907-aee1-4ff791bf5919')\"\n",
              "            title=\"Convert this dataframe to an interactive table.\"\n",
              "            style=\"display:none;\">\n",
              "\n",
              "  <svg xmlns=\"http://www.w3.org/2000/svg\" height=\"24px\" viewBox=\"0 -960 960 960\">\n",
              "    <path d=\"M120-120v-720h720v720H120Zm60-500h600v-160H180v160Zm220 220h160v-160H400v160Zm0 220h160v-160H400v160ZM180-400h160v-160H180v160Zm440 0h160v-160H620v160ZM180-180h160v-160H180v160Zm440 0h160v-160H620v160Z\"/>\n",
              "  </svg>\n",
              "    </button>\n",
              "\n",
              "  <style>\n",
              "    .colab-df-container {\n",
              "      display:flex;\n",
              "      gap: 12px;\n",
              "    }\n",
              "\n",
              "    .colab-df-convert {\n",
              "      background-color: #E8F0FE;\n",
              "      border: none;\n",
              "      border-radius: 50%;\n",
              "      cursor: pointer;\n",
              "      display: none;\n",
              "      fill: #1967D2;\n",
              "      height: 32px;\n",
              "      padding: 0 0 0 0;\n",
              "      width: 32px;\n",
              "    }\n",
              "\n",
              "    .colab-df-convert:hover {\n",
              "      background-color: #E2EBFA;\n",
              "      box-shadow: 0px 1px 2px rgba(60, 64, 67, 0.3), 0px 1px 3px 1px rgba(60, 64, 67, 0.15);\n",
              "      fill: #174EA6;\n",
              "    }\n",
              "\n",
              "    .colab-df-buttons div {\n",
              "      margin-bottom: 4px;\n",
              "    }\n",
              "\n",
              "    [theme=dark] .colab-df-convert {\n",
              "      background-color: #3B4455;\n",
              "      fill: #D2E3FC;\n",
              "    }\n",
              "\n",
              "    [theme=dark] .colab-df-convert:hover {\n",
              "      background-color: #434B5C;\n",
              "      box-shadow: 0px 1px 3px 1px rgba(0, 0, 0, 0.15);\n",
              "      filter: drop-shadow(0px 1px 2px rgba(0, 0, 0, 0.3));\n",
              "      fill: #FFFFFF;\n",
              "    }\n",
              "  </style>\n",
              "\n",
              "    <script>\n",
              "      const buttonEl =\n",
              "        document.querySelector('#df-2f7a8944-25d0-4907-aee1-4ff791bf5919 button.colab-df-convert');\n",
              "      buttonEl.style.display =\n",
              "        google.colab.kernel.accessAllowed ? 'block' : 'none';\n",
              "\n",
              "      async function convertToInteractive(key) {\n",
              "        const element = document.querySelector('#df-2f7a8944-25d0-4907-aee1-4ff791bf5919');\n",
              "        const dataTable =\n",
              "          await google.colab.kernel.invokeFunction('convertToInteractive',\n",
              "                                                    [key], {});\n",
              "        if (!dataTable) return;\n",
              "\n",
              "        const docLinkHtml = 'Like what you see? Visit the ' +\n",
              "          '<a target=\"_blank\" href=https://colab.research.google.com/notebooks/data_table.ipynb>data table notebook</a>'\n",
              "          + ' to learn more about interactive tables.';\n",
              "        element.innerHTML = '';\n",
              "        dataTable['output_type'] = 'display_data';\n",
              "        await google.colab.output.renderOutput(dataTable, element);\n",
              "        const docLink = document.createElement('div');\n",
              "        docLink.innerHTML = docLinkHtml;\n",
              "        element.appendChild(docLink);\n",
              "      }\n",
              "    </script>\n",
              "  </div>\n",
              "\n",
              "\n",
              "    <div id=\"df-2cfc9ce1-a8f7-4979-8ce0-decf5820e174\">\n",
              "      <button class=\"colab-df-quickchart\" onclick=\"quickchart('df-2cfc9ce1-a8f7-4979-8ce0-decf5820e174')\"\n",
              "                title=\"Suggest charts\"\n",
              "                style=\"display:none;\">\n",
              "\n",
              "<svg xmlns=\"http://www.w3.org/2000/svg\" height=\"24px\"viewBox=\"0 0 24 24\"\n",
              "     width=\"24px\">\n",
              "    <g>\n",
              "        <path d=\"M19 3H5c-1.1 0-2 .9-2 2v14c0 1.1.9 2 2 2h14c1.1 0 2-.9 2-2V5c0-1.1-.9-2-2-2zM9 17H7v-7h2v7zm4 0h-2V7h2v10zm4 0h-2v-4h2v4z\"/>\n",
              "    </g>\n",
              "</svg>\n",
              "      </button>\n",
              "\n",
              "<style>\n",
              "  .colab-df-quickchart {\n",
              "      --bg-color: #E8F0FE;\n",
              "      --fill-color: #1967D2;\n",
              "      --hover-bg-color: #E2EBFA;\n",
              "      --hover-fill-color: #174EA6;\n",
              "      --disabled-fill-color: #AAA;\n",
              "      --disabled-bg-color: #DDD;\n",
              "  }\n",
              "\n",
              "  [theme=dark] .colab-df-quickchart {\n",
              "      --bg-color: #3B4455;\n",
              "      --fill-color: #D2E3FC;\n",
              "      --hover-bg-color: #434B5C;\n",
              "      --hover-fill-color: #FFFFFF;\n",
              "      --disabled-bg-color: #3B4455;\n",
              "      --disabled-fill-color: #666;\n",
              "  }\n",
              "\n",
              "  .colab-df-quickchart {\n",
              "    background-color: var(--bg-color);\n",
              "    border: none;\n",
              "    border-radius: 50%;\n",
              "    cursor: pointer;\n",
              "    display: none;\n",
              "    fill: var(--fill-color);\n",
              "    height: 32px;\n",
              "    padding: 0;\n",
              "    width: 32px;\n",
              "  }\n",
              "\n",
              "  .colab-df-quickchart:hover {\n",
              "    background-color: var(--hover-bg-color);\n",
              "    box-shadow: 0 1px 2px rgba(60, 64, 67, 0.3), 0 1px 3px 1px rgba(60, 64, 67, 0.15);\n",
              "    fill: var(--button-hover-fill-color);\n",
              "  }\n",
              "\n",
              "  .colab-df-quickchart-complete:disabled,\n",
              "  .colab-df-quickchart-complete:disabled:hover {\n",
              "    background-color: var(--disabled-bg-color);\n",
              "    fill: var(--disabled-fill-color);\n",
              "    box-shadow: none;\n",
              "  }\n",
              "\n",
              "  .colab-df-spinner {\n",
              "    border: 2px solid var(--fill-color);\n",
              "    border-color: transparent;\n",
              "    border-bottom-color: var(--fill-color);\n",
              "    animation:\n",
              "      spin 1s steps(1) infinite;\n",
              "  }\n",
              "\n",
              "  @keyframes spin {\n",
              "    0% {\n",
              "      border-color: transparent;\n",
              "      border-bottom-color: var(--fill-color);\n",
              "      border-left-color: var(--fill-color);\n",
              "    }\n",
              "    20% {\n",
              "      border-color: transparent;\n",
              "      border-left-color: var(--fill-color);\n",
              "      border-top-color: var(--fill-color);\n",
              "    }\n",
              "    30% {\n",
              "      border-color: transparent;\n",
              "      border-left-color: var(--fill-color);\n",
              "      border-top-color: var(--fill-color);\n",
              "      border-right-color: var(--fill-color);\n",
              "    }\n",
              "    40% {\n",
              "      border-color: transparent;\n",
              "      border-right-color: var(--fill-color);\n",
              "      border-top-color: var(--fill-color);\n",
              "    }\n",
              "    60% {\n",
              "      border-color: transparent;\n",
              "      border-right-color: var(--fill-color);\n",
              "    }\n",
              "    80% {\n",
              "      border-color: transparent;\n",
              "      border-right-color: var(--fill-color);\n",
              "      border-bottom-color: var(--fill-color);\n",
              "    }\n",
              "    90% {\n",
              "      border-color: transparent;\n",
              "      border-bottom-color: var(--fill-color);\n",
              "    }\n",
              "  }\n",
              "</style>\n",
              "\n",
              "      <script>\n",
              "        async function quickchart(key) {\n",
              "          const quickchartButtonEl =\n",
              "            document.querySelector('#' + key + ' button');\n",
              "          quickchartButtonEl.disabled = true;  // To prevent multiple clicks.\n",
              "          quickchartButtonEl.classList.add('colab-df-spinner');\n",
              "          try {\n",
              "            const charts = await google.colab.kernel.invokeFunction(\n",
              "                'suggestCharts', [key], {});\n",
              "          } catch (error) {\n",
              "            console.error('Error during call to suggestCharts:', error);\n",
              "          }\n",
              "          quickchartButtonEl.classList.remove('colab-df-spinner');\n",
              "          quickchartButtonEl.classList.add('colab-df-quickchart-complete');\n",
              "        }\n",
              "        (() => {\n",
              "          let quickchartButtonEl =\n",
              "            document.querySelector('#df-2cfc9ce1-a8f7-4979-8ce0-decf5820e174 button');\n",
              "          quickchartButtonEl.style.display =\n",
              "            google.colab.kernel.accessAllowed ? 'block' : 'none';\n",
              "        })();\n",
              "      </script>\n",
              "    </div>\n",
              "\n",
              "  <div id=\"id_0b85e577-414b-4144-ae78-d0c37d6b4d58\">\n",
              "    <style>\n",
              "      .colab-df-generate {\n",
              "        background-color: #E8F0FE;\n",
              "        border: none;\n",
              "        border-radius: 50%;\n",
              "        cursor: pointer;\n",
              "        display: none;\n",
              "        fill: #1967D2;\n",
              "        height: 32px;\n",
              "        padding: 0 0 0 0;\n",
              "        width: 32px;\n",
              "      }\n",
              "\n",
              "      .colab-df-generate:hover {\n",
              "        background-color: #E2EBFA;\n",
              "        box-shadow: 0px 1px 2px rgba(60, 64, 67, 0.3), 0px 1px 3px 1px rgba(60, 64, 67, 0.15);\n",
              "        fill: #174EA6;\n",
              "      }\n",
              "\n",
              "      [theme=dark] .colab-df-generate {\n",
              "        background-color: #3B4455;\n",
              "        fill: #D2E3FC;\n",
              "      }\n",
              "\n",
              "      [theme=dark] .colab-df-generate:hover {\n",
              "        background-color: #434B5C;\n",
              "        box-shadow: 0px 1px 3px 1px rgba(0, 0, 0, 0.15);\n",
              "        filter: drop-shadow(0px 1px 2px rgba(0, 0, 0, 0.3));\n",
              "        fill: #FFFFFF;\n",
              "      }\n",
              "    </style>\n",
              "    <button class=\"colab-df-generate\" onclick=\"generateWithVariable('df_gold')\"\n",
              "            title=\"Generate code using this dataframe.\"\n",
              "            style=\"display:none;\">\n",
              "\n",
              "  <svg xmlns=\"http://www.w3.org/2000/svg\" height=\"24px\"viewBox=\"0 0 24 24\"\n",
              "       width=\"24px\">\n",
              "    <path d=\"M7,19H8.4L18.45,9,17,7.55,7,17.6ZM5,21V16.75L18.45,3.32a2,2,0,0,1,2.83,0l1.4,1.43a1.91,1.91,0,0,1,.58,1.4,1.91,1.91,0,0,1-.58,1.4L9.25,21ZM18.45,9,17,7.55Zm-12,3A5.31,5.31,0,0,0,4.9,8.1,5.31,5.31,0,0,0,1,6.5,5.31,5.31,0,0,0,4.9,4.9,5.31,5.31,0,0,0,6.5,1,5.31,5.31,0,0,0,8.1,4.9,5.31,5.31,0,0,0,12,6.5,5.46,5.46,0,0,0,6.5,12Z\"/>\n",
              "  </svg>\n",
              "    </button>\n",
              "    <script>\n",
              "      (() => {\n",
              "      const buttonEl =\n",
              "        document.querySelector('#id_0b85e577-414b-4144-ae78-d0c37d6b4d58 button.colab-df-generate');\n",
              "      buttonEl.style.display =\n",
              "        google.colab.kernel.accessAllowed ? 'block' : 'none';\n",
              "\n",
              "      buttonEl.onclick = () => {\n",
              "        google.colab.notebook.generateWithVariable('df_gold');\n",
              "      }\n",
              "      })();\n",
              "    </script>\n",
              "  </div>\n",
              "\n",
              "    </div>\n",
              "  </div>\n"
            ],
            "application/vnd.google.colaboratory.intrinsic+json": {
              "type": "dataframe",
              "variable_name": "df_gold",
              "summary": "{\n  \"name\": \"df_gold\",\n  \"rows\": 2,\n  \"fields\": [\n    {\n      \"column\": \"Moeda\",\n      \"properties\": {\n        \"dtype\": \"string\",\n        \"num_unique_values\": 2,\n        \"samples\": [\n          \"USD\",\n          \"JPY\"\n        ],\n        \"semantic_type\": \"\",\n        \"description\": \"\"\n      }\n    },\n    {\n      \"column\": \"Taxa\",\n      \"properties\": {\n        \"dtype\": \"number\",\n        \"std\": 19.07349831572593,\n        \"min\": 0.1829,\n        \"max\": 27.1569,\n        \"num_unique_values\": 2,\n        \"samples\": [\n          0.1829,\n          27.1569\n        ],\n        \"semantic_type\": \"\",\n        \"description\": \"\"\n      }\n    },\n    {\n      \"column\": \"Moeda_Base\",\n      \"properties\": {\n        \"dtype\": \"string\",\n        \"num_unique_values\": 1,\n        \"samples\": [\n          \"BRL\"\n        ],\n        \"semantic_type\": \"\",\n        \"description\": \"\"\n      }\n    },\n    {\n      \"column\": \"Timestamp\",\n      \"properties\": {\n        \"dtype\": \"date\",\n        \"min\": \"2025-09-03 14:27:15\",\n        \"max\": \"2025-09-03 14:27:15\",\n        \"num_unique_values\": 1,\n        \"samples\": [\n          \"2025-09-03 14:27:15\"\n        ],\n        \"semantic_type\": \"\",\n        \"description\": \"\"\n      }\n    }\n  ]\n}"
            }
          },
          "metadata": {},
          "execution_count": 9
        }
      ]
    },
    {
      "cell_type": "markdown",
      "source": [
        "## 4° PASSO: GERA GRÁFICO COM AS PRINCIPAIS MOEDAS 📈🪙💱"
      ],
      "metadata": {
        "id": "sBSGIhLTaYOW"
      }
    },
    {
      "cell_type": "code",
      "source": [
        "# Gera Log\n",
        "newsletter_logger.info(\"4° PASSO: GERA GRÁFICO COM AS PRINCIPAIS MOEDAS\" )\n",
        "\n",
        "# Le o arquivo PARQUET\n",
        "df_graph = pd.read_parquet(gold_dir)\n",
        "\n",
        "# --- Início das configurações de gráfico ---\n",
        "plt.figure(figsize=(8, 6)) # Opcional: ajusta o tamanho da figura para melhor visualização\n",
        "plt.bar(df_graph['Moeda'], df_graph['Taxa'], color='cornflowerblue')\n",
        "\n",
        "# Adição para incluir os valores nas barras\n",
        "# Loop para percorrer cada barra do gráfico\n",
        "for index, value in enumerate(df_graph['Taxa']):\n",
        "    # plt.text(x, y, texto, alinhamento_horizontal)\n",
        "    # x = index (posição da barra: 0, 1, 2...)\n",
        "    # y = value + offset (altura da barra + um pequeno espaço para não ficar colado)\n",
        "    # texto = f'{value:.2f}' (o valor formatado com 2 casas decimais)\n",
        "    plt.text(index, value + 0.05, f'R$ {value:.2f}', ha='center', fontsize=10)\n",
        "# --- Fim das configurações de gráfico ---\n",
        "\n",
        "# Adiciona títulos e rótulos\n",
        "plt.xlabel('Moeda', fontsize=12)\n",
        "plt.ylabel('Taxa de Câmbio (R$)', fontsize=12)\n",
        "plt.title(f'Taxas de Câmbio - {data_atual.strftime(\"%d/%m/%Y\")}', fontsize=14)\n",
        "plt.xticks(rotation=45, ha='right') # Rotaciona os rótulos do eixo x para evitar sobreposição\n",
        "plt.grid(axis='y', linestyle='--', alpha=0.7) # Adiciona uma grade horizontal\n",
        "plt.tight_layout() # Ajusta o layout para garantir que tudo se encaixe bem\n",
        "\n",
        "# Salva o gráfico no arquivo PDF\n",
        "plt.savefig(graph_dir, format='pdf')\n",
        "\n",
        "newsletter_logger.info(f\"Gráfico salvo com sucesso no arquivo: '{graph_dir}'\")"
      ],
      "metadata": {
        "colab": {
          "base_uri": "https://localhost:8080/",
          "height": 641
        },
        "id": "8uCUmQT4bWWs",
        "outputId": "a8a036a2-9ed6-4352-ae71-f550cc57d620"
      },
      "execution_count": 10,
      "outputs": [
        {
          "output_type": "stream",
          "name": "stderr",
          "text": [
            "INFO:newsletter_logger:4° PASSO: GERA GRÁFICO COM AS PRINCIPAIS MOEDAS\n",
            "INFO:newsletter_logger:Gráfico salvo com sucesso no arquivo: '04_graphs/grafico_taxas_de_cambio_2025-09-03.pdf'\n"
          ]
        },
        {
          "output_type": "display_data",
          "data": {
            "text/plain": [
              "<Figure size 800x600 with 1 Axes>"
            ],
            "image/png": "[encoded data removed]"
          },
          "metadata": {}
        }
      ]
    },
    {
      "cell_type": "markdown",
      "source": [
        "## 5° PASSO: GERAR CONTEÚDO DO EMAIL COM IA-GEMINI🤖 E GRAVAR EM JSON 🗃️"
      ],
      "metadata": {
        "id": "D33NdqikeVxZ"
      }
    },
    {
      "cell_type": "code",
      "source": [
        "# Gera Log\n",
        "newsletter_logger.info(\"5° PASSO: GERAR CONTEÚDO DO EMAIL COM IA (GEMINI)\")\n",
        "\n",
        "# Utiliza credenciais do Gemini\n",
        "genai.configure(api_key=gemini_key)\n",
        "\n",
        "# Inicializa modelo do Gemini\n",
        "model = genai.GenerativeModel(f'{gemini_model}')\n",
        "\n",
        "# Define o prompt\n",
        "prompt = f\"\"\"\n",
        "Você é um agente especialista no mercado financeiro, responsável por ler dados sobre o valor do USD e JPY frente ao BRL.\n",
        "Use os dados fornecidos sobre a cotação da moeda e gere um texto de Newsletter informando noticias relevantes no dia de hoje, que tenhan relação com USD e JPY.\n",
        "\n",
        "Acrecente ao final links de notícias relevantes do dia, sobre o tema. Os links devem estar funcionado para que o assinante acesse.\n",
        "Acrescente ao final a frase: 'Atenciosamente, Seu Consultor Financeiro.'.\n",
        "\n",
        "### Exemplo de Saida esperada: 'Olá, Assinante. Hoje a cotação do USD ficou em 0,18 e do JPY em 27,18. O USD sofreu o impacto do FED que divulgou bons numeros no mercado de trabalho, já o JPY se manteve estavel mesmo com a melhora no aumento do PIB Japones. Links de notícias relevantes: infomoney.com/noticia123.'\n",
        "### Dados: {df_gold}\n",
        "\"\"\"\n",
        "\n",
        "# Configuração do Gemini\n",
        "generation_config = {\n",
        "    \"max_output_tokens\": 1000,  # Limita a resposta 1000 tokens\n",
        "    \"temperature\": 0.5       # Torna a resposta mais focada\n",
        "}\n",
        "\n",
        "# Envia o prompt\n",
        "response = model.generate_content(\n",
        "  prompt\n",
        "  #,generation_config=generation_config\n",
        ")\n",
        "\n",
        "# Imprime a resposta\n",
        "df_ia = response.text\n",
        "\n",
        "# Captura a quantidade de tokens do prompt\n",
        "token_count = model.count_tokens(prompt)\n",
        "\n",
        "# Gera Log\n",
        "newsletter_logger.info(f\"Conteúdo gerado com sucesso com {token_count}\")"
      ],
      "metadata": {
        "colab": {
          "base_uri": "https://localhost:8080/",
          "height": 69
        },
        "id": "zJigPImgipQa",
        "outputId": "db9edb22-ebba-42d3-ee51-03d7c1149dad"
      },
      "execution_count": 23,
      "outputs": [
        {
          "output_type": "stream",
          "name": "stderr",
          "text": [
            "INFO:newsletter_logger:5° PASSO: GERAR CONTEÚDO DO EMAIL COM IA (GEMINI)\n",
            "INFO:newsletter_logger:Conteúdo gerado com sucesso com total_tokens: 305\n",
            "\n"
          ]
        }
      ]
    },
    {
      "cell_type": "code",
      "source": [
        "# Cria variaveis com resposta da IA, para armazenamento\n",
        "ia_resp_output = { datetime.now().strftime('%Y-%m-%d %H:%M') : df_ia }\n",
        "ia_resp_output_new = []\n",
        "\n",
        "# Verifica se o arquivo JSON já existe e não está vazio\n",
        "if os.path.exists(ia_output_dir) and os.path.getsize(ia_output_dir) > 0:\n",
        "    with open(ia_output_dir, 'r', encoding='utf-8') as f:\n",
        "      ia_resp_output_new = json.load(f)\n",
        "\n",
        "# Garante que os dados existentes sejam uma lista para poder adicionar.\n",
        "if not isinstance(ia_resp_output_new, list):\n",
        "    ia_resp_output_new = [ia_resp_output_new]\n",
        "\n",
        "# Adicionar os novos dados à lista.\n",
        "ia_resp_output_new.append(ia_resp_output)\n",
        "\n",
        "# Escreve a lista completa de volta no arquivo\n",
        "with open(ia_output_dir, 'w', encoding='utf-8') as f:\n",
        "    json.dump(ia_resp_output_new, f, ensure_ascii=False, indent=4)\n",
        "\n",
        "# Gera Log\n",
        "newsletter_logger.info(f\"Conteúdo gravado com sucesso no arquivo: '{ia_output_dir}'\")"
      ],
      "metadata": {
        "colab": {
          "base_uri": "https://localhost:8080/"
        },
        "id": "j51tiJr9DOAX",
        "outputId": "d9c8c4aa-179f-44ff-b525-97817f843c5b"
      },
      "execution_count": 28,
      "outputs": [
        {
          "output_type": "stream",
          "name": "stderr",
          "text": [
            "INFO:newsletter_logger:Conteúdo gravado com sucesso no arquivo: '05_ia_responses/ia_output.json'\n"
          ]
        }
      ]
    },
    {
      "cell_type": "markdown",
      "source": [
        "## 6° PASSO: ENVIAR E-MAIL COM RELATÓRIO 📨"
      ],
      "metadata": {
        "id": "RSN1oW6-8LHx"
      }
    },
    {
      "cell_type": "code",
      "source": [
        "# Gera Log\n",
        "newsletter_logger.info(\"6° PASSO: ENVIAR E-MAIL COM RELATÓRIO\")\n",
        "\n",
        "# Envia o e-mail\n",
        "assunto_email = \"Relatório Diário - Cotação das principais moedas\"\n",
        "corpo_email = f\"{df_ia}\"\n",
        "\n",
        "enviar_email_com_anexo(\n",
        "    remetente=meu_email,\n",
        "    senha=minha_senha_app,\n",
        "    destinatario=email_destinatario,\n",
        "    assunto=assunto_email,\n",
        "    corpo=corpo_email,\n",
        "    caminho_anexo=graph_dir\n",
        ")"
      ],
      "metadata": {
        "colab": {
          "base_uri": "https://localhost:8080/"
        },
        "id": "HFY_4R76196Z",
        "outputId": "5c526b87-ad30-4808-b55f-9d0dbadd6d64"
      },
      "execution_count": null,
      "outputs": [
        {
          "output_type": "stream",
          "name": "stderr",
          "text": [
            "2025-09-03 01:20:23,969 - newsletter_logger - INFO - 6° PASSO: ENVIAR E-MAIL COM RELATÓRIO\n",
            "INFO:newsletter_logger:6° PASSO: ENVIAR E-MAIL COM RELATÓRIO\n",
            "2025-09-03 01:20:25,845 - newsletter_logger - INFO - E-mail enviado com sucesso!\n",
            "INFO:newsletter_logger:E-mail enviado com sucesso!\n"
          ]
        }
      ]
    },
    {
      "cell_type": "markdown",
      "source": [
        "# ‼️Validar LOG"
      ],
      "metadata": {
        "id": "Dar-lDI2ws_e"
      }
    },
    {
      "cell_type": "code",
      "source": [
        "with open(\"newsletter_logger.log\", \"r\") as f:\n",
        "  conteudo = f.read()\n",
        "\n",
        "print(conteudo)"
      ],
      "metadata": {
        "colab": {
          "base_uri": "https://localhost:8080/"
        },
        "id": "xTv8WcjfwseW",
        "outputId": "4b805fb7-1ddd-4b3a-bf67-4ed04ebf2c8a"
      },
      "execution_count": null,
      "outputs": [
        {
          "output_type": "stream",
          "name": "stdout",
          "text": [
            "2025-09-03 01:14:15,306 - newsletter_logger - INFO - Configurações de Log\n",
            "2025-09-03 01:14:17,372 - newsletter_logger - INFO - Configurações de Funções\n",
            "2025-09-03 01:14:18,814 - newsletter_logger - INFO - Definição de variaveis\n",
            "2025-09-03 01:14:20,439 - newsletter_logger - INFO - 1° PASSO: COLETA DE DADOS DA API E ARMAZENAMENTO BRUTO (CAMADA BRONZE)\n",
            "2025-09-03 01:15:21,086 - newsletter_logger - INFO - Definição de variaveis\n",
            "2025-09-03 01:15:22,867 - newsletter_logger - INFO - 1° PASSO: COLETA DE DADOS DA API E ARMAZENAMENTO BRUTO (CAMADA BRONZE)\n",
            "2025-09-03 01:15:22,944 - newsletter_logger - INFO - Taxas de câmbio salvas com sucesso em: 01_bronze/exchange_rates_bronze_2025-09-03.json\n",
            "2025-09-03 01:15:24,533 - newsletter_logger - INFO - 2° PASSO: CAPTURAR DADOS DA CAMADA BRONZE, NORMALIZAR E GRAVAR NA CAMADA SILVER\n",
            "2025-09-03 01:15:24,558 - newsletter_logger - INFO - DataFrame da camada Bronze processado com sucesso e salvo na camada Silver em: 02_silver/exchange_rates_normalized_2025-09-03.json\n",
            "2025-09-03 01:15:26,220 - newsletter_logger - INFO - 3° PASSO: CAPTURAR DADOS DA CAMADA SILVER E GRAVAR EM PARQUET NA CAMADA GOLD\n",
            "2025-09-03 01:15:26,354 - newsletter_logger - INFO - DataFrame da camada Silver processado com sucesso e salvo na camada Gold em: 03_gold/exchange_rates_2025-09-03.parquet\n",
            "2025-09-03 01:15:28,673 - newsletter_logger - INFO - 4° PASSO: GERA GRÁFICO COM AS PRINCIPAIS MOEDAS\n",
            "2025-09-03 01:15:29,850 - newsletter_logger - INFO - Gráfico salvo com sucesso no arquivo: '04_graphs/grafico_taxas_de_cambio_2025-09-03.pdf'\n",
            "2025-09-03 01:15:32,501 - newsletter_logger - INFO - 5° PASSO: GERAR CONTEÚDO DO EMAIL COM IA (GEMINI)\n",
            "2025-09-03 01:15:53,534 - newsletter_logger - INFO - Conteúdo gerado com sucesso com total_tokens: 285\n",
            "\n",
            "2025-09-03 01:19:57,580 - newsletter_logger - INFO - 5° PASSO: GERAR CONTEÚDO DO EMAIL COM IA (GEMINI)\n",
            "2025-09-03 01:20:12,762 - newsletter_logger - INFO - Conteúdo gerado com sucesso com total_tokens: 285\n",
            "\n",
            "2025-09-03 01:20:12,766 - newsletter_logger - INFO - Conteúdo gravado com sucesso no arquivo: '05_ia_responses/ia_output.json'\n",
            "2025-09-03 01:20:23,969 - newsletter_logger - INFO - 6° PASSO: ENVIAR E-MAIL COM RELATÓRIO\n",
            "2025-09-03 01:20:25,845 - newsletter_logger - INFO - E-mail enviado com sucesso!\n",
            "\n"
          ]
        }
      ]
    },
    {
      "cell_type": "markdown",
      "source": [
        "#‼️Validar Output's IA"
      ],
      "metadata": {
        "id": "adb3HW54NM8H"
      }
    },
    {
      "cell_type": "code",
      "source": [
        "with open(ia_output_dir, \"r\") as f:\n",
        "  conteudo = f.read()\n",
        "\n",
        "print(conteudo)"
      ],
      "metadata": {
        "colab": {
          "base_uri": "https://localhost:8080/"
        },
        "id": "Ocqr_3N5NYPd",
        "outputId": "8b919fa1-2955-4ffb-a4ed-8614bb2f776a"
      },
      "execution_count": null,
      "outputs": [
        {
          "output_type": "stream",
          "name": "stdout",
          "text": [
            "[\n",
            "    {\n",
            "        \"2025-09-03 01:27\": \"Olá, Assinante.\\n\\nHoje, 03 de setembro de 2025, a cotação do Dólar Americano (USD) frente ao Real (BRL) ficou em **0,18**, enquanto o Iene Japonês (JPY) se manteve em **27,18**.\\n\\nO Dólar Americano (USD) demonstrou resiliência no dia de hoje, impulsionado por dados robustos de inflação dos EUA, que reforçam a expectativa de que o Federal Reserve (FED) manterá uma postura mais conservadora em relação a cortes de juros. Esse cenário tende a fortalecer a moeda, apesar das pressões globais. Já o Iene Japonês (JPY), mesmo com a divulgação de um crescimento ligeiramente acima do esperado no PIB japonês no último trimestre, não conseguiu demonstrar ganhos significativos. A manutenção da política monetária ultra-expansionista do Banco do Japão (BoJ) continua a ser o principal fator limitante para uma valorização mais expressiva da moeda frente aos seus pares e ao BRL.\\n\\nLinks de notícias relevantes:\\n*   [Dólar sobe com dados de inflação dos EUA e reforça cautela do FED](https://www.infomoney.com.br/mercados/dolar-eua-inflacao-fed-03092025/)\\n*   [Iene japonês: PIB surpreende, mas política monetária segura ganhos](https://valorinveste.globo.com/mercados/noticia/iene-japao-pib-politica-monetaria-03092025.ghtml)\\n*   [Análise: O impacto global dos próximos passos do Banco do Japão](https://www.moneytimes.com.br/analise-boj-politica-monetaria-mercados-globais-03092025/)\\n\\nAtenciosamente,\\nSeu Consultor Financeiro.\"\n",
            "    },\n",
            "    {\n",
            "        \"2025-09-03 01:15\": \"Olá, Assinante.\\n\\nHoje, 03 de setembro de 2025, o mercado financeiro apresentou as seguintes cotações frente ao Real (BRL): o Dólar Americano (USD) fechou em **0,1829 BRL**, enquanto o Iene Japonês (JPY) foi negociado a **27,1569 BRL**.\\n\\nO Dólar Americano (USD) mostrou resiliência hoje, impulsionado pela divulgação de dados econômicos robustos nos Estados Unidos. O Federal Reserve (FED) indicou uma contínua solidez no mercado de trabalho e sinais de arrefecimento da inflação, o que fortaleceu as expectativas de que a economia americana pode evitar uma recessão mais profunda. Essa percepção levou a um aumento na demanda pelo dólar, refletindo a confiança dos investidores na capacidade do FED de gerenciar a política monetária de forma eficaz.\\n\\nJá o Iene Japonês (JPY) manteve-se relativamente estável, apesar de notícias positivas vindo do Japão. Dados preliminares mostraram um crescimento surpreendente no Produto Interno Bruto (PIB) do segundo trimestre, superando as projeções dos analistas. Contudo, o Banco do Japão (BoJ) reiterou sua postura acomodatícia, sinalizando que as taxas de juros permanecerão baixas por um período prolongado. Essa divergência entre o crescimento econômico e a política monetária conservadora do BoJ limitou a valorização do iene, mantendo-o em uma faixa estável.\\n\\nLinks de notícias relevantes:\\n*   **FED e Mercado de Trabalho nos EUA:** [https://www.infomoney.com.br/mercados/fed-eua-mercado-trabalho-setembro2025](https://www.infomoney.com.br/mercados/fed-eua-mercado-trabalho-setembro2025)\\n*   **PIB Japonês e BoJ:** [https://www.valor.com.br/internacional/noticia/bojapan-pib-politica-monetaria-estavel-2025](https://www.valor.com.br/internacional/noticia/bojapan-pib-politica-monetaria-estavel-2025)\\n\\nAtenciosamente,\\nSeu Consultor Financeiro.\"\n",
            "    }\n",
            "]\n"
          ]
        }
      ]
    }
  ]
}